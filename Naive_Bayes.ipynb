{
  "nbformat": 4,
  "nbformat_minor": 0,
  "metadata": {
    "colab": {
      "name": "Naive Bayes.ipynb",
      "provenance": [],
      "collapsed_sections": []
    },
    "kernelspec": {
      "display_name": "Python 3",
      "name": "python3"
    }
  },
  "cells": [
    {
      "cell_type": "code",
      "metadata": {
        "colab": {
          "base_uri": "https://localhost:8080/"
        },
        "id": "W_voG64ej692",
        "outputId": "f60f7558-332d-4abc-ef42-14045e6d80e4"
      },
      "source": [
        "from google.colab import drive\n",
        "drive.mount('/content/gdrive')"
      ],
      "execution_count": null,
      "outputs": [
        {
          "output_type": "stream",
          "text": [
            "Mounted at /content/gdrive\n"
          ],
          "name": "stdout"
        }
      ]
    },
    {
      "cell_type": "code",
      "metadata": {
        "id": "riDVq8V8kWy-",
        "colab": {
          "base_uri": "https://localhost:8080/"
        },
        "outputId": "cbe7c671-f584-403f-e6f1-5d5ad744fe83"
      },
      "source": [
        "import pandas as pd\n",
        "\n",
        "#dataframe\n",
        "data = pd.read_csv('/content/gdrive/MyDrive/Dataset/kr-vs-kp.csv')\n",
        "\n",
        "print(data.columns)"
      ],
      "execution_count": null,
      "outputs": [
        {
          "output_type": "stream",
          "text": [
            "Index(['bkblk', 'bknwy', 'bkon8', 'bkona', 'bkspr', 'bkxbq', 'bkxcr', 'bkxwp',\n",
            "       'blxwp', 'bxqsq', 'cntxt', 'dsopp', 'dwipd', 'hdchk', 'katri', 'mulch',\n",
            "       'qxmsq', 'r2ar8', 'reskd', 'reskr', 'rimmx', 'rkxwp', 'rxmsq', 'simpl',\n",
            "       'skach', 'skewr', 'skrxp', 'spcop', 'stlmt', 'thrsk', 'wkcti', 'wkna8',\n",
            "       'wknck', 'wkovl', 'wkpos', 'wtoeg', 'label'],\n",
            "      dtype='object')\n"
          ],
          "name": "stdout"
        }
      ]
    },
    {
      "cell_type": "code",
      "metadata": {
        "colab": {
          "base_uri": "https://localhost:8080/"
        },
        "id": "VxKsJ6FBl3gj",
        "outputId": "22763e08-4cd3-4fae-af2e-008f69d568bf"
      },
      "source": [
        "from sklearn.model_selection import train_test_split\n",
        "\n",
        "data_x =  data.loc[:, data.columns != 'label']\n",
        "data_y = data['label']\n",
        "\n",
        "\n",
        "train_x, test_x, train_y, test_y = train_test_split(data_x, data_y, train_size=0.75, stratify=data_y)\n",
        "\n",
        "print(train_x.shape)\n",
        "print(test_x.shape)\n",
        "\n",
        "print(train_y.shape)\n",
        "print(test_y.shape)"
      ],
      "execution_count": null,
      "outputs": [
        {
          "output_type": "stream",
          "text": [
            "(2397, 36)\n",
            "(799, 36)\n",
            "(2397,)\n",
            "(799,)\n"
          ],
          "name": "stdout"
        }
      ]
    },
    {
      "cell_type": "code",
      "metadata": {
        "colab": {
          "base_uri": "https://localhost:8080/"
        },
        "id": "NtJaSA2kBt2J",
        "outputId": "066d8582-30b8-42e1-dce4-ded1a97de009"
      },
      "source": [
        "print(train_x)\n",
        "print(train_y)"
      ],
      "execution_count": null,
      "outputs": [
        {
          "output_type": "stream",
          "text": [
            "     bkblk bknwy bkon8 bkona bkspr bkxbq  ... wkcti wkna8 wknck wkovl wkpos wtoeg\n",
            "3066     f     f     f     f     t     f  ...     f     f     t     f     t     t\n",
            "1086     f     f     f     f     t     f  ...     f     f     t     t     t     n\n",
            "2098     f     f     f     f     t     f  ...     f     f     f     f     t     t\n",
            "1411     f     f     f     f     f     f  ...     f     f     f     t     t     n\n",
            "2732     f     f     f     t     f     t  ...     f     f     f     t     t     t\n",
            "...    ...   ...   ...   ...   ...   ...  ...   ...   ...   ...   ...   ...   ...\n",
            "1507     f     f     f     f     f     t  ...     f     f     f     t     t     n\n",
            "965      f     f     f     f     f     f  ...     f     f     f     f     f     n\n",
            "2460     f     f     f     f     f     f  ...     f     t     f     t     f     n\n",
            "676      f     f     f     f     f     f  ...     f     f     f     t     t     t\n",
            "1573     f     f     f     f     f     f  ...     f     f     f     t     t     t\n",
            "\n",
            "[2397 rows x 36 columns]\n",
            "3066    nowin\n",
            "1086    nowin\n",
            "2098      won\n",
            "1411    nowin\n",
            "2732    nowin\n",
            "        ...  \n",
            "1507    nowin\n",
            "965     nowin\n",
            "2460    nowin\n",
            "676       won\n",
            "1573    nowin\n",
            "Name: label, Length: 2397, dtype: object\n"
          ],
          "name": "stdout"
        }
      ]
    },
    {
      "cell_type": "code",
      "metadata": {
        "colab": {
          "base_uri": "https://localhost:8080/"
        },
        "id": "pGt8kTeImSFe",
        "outputId": "85645f8b-0c88-4f26-cecc-a7cbbe30aaf4"
      },
      "source": [
        "print(data_x)\n",
        "print(data_y)"
      ],
      "execution_count": null,
      "outputs": [
        {
          "output_type": "stream",
          "text": [
            "     bkblk bknwy bkon8 bkona bkspr bkxbq  ... wkcti wkna8 wknck wkovl wkpos wtoeg\n",
            "0        f     f     f     f     f     f  ...     f     f     f     t     t     n\n",
            "1        f     f     f     f     t     f  ...     f     f     f     t     t     n\n",
            "2        f     f     f     f     t     f  ...     f     f     f     t     t     n\n",
            "3        f     f     f     f     f     f  ...     f     f     f     t     t     n\n",
            "4        f     f     f     f     f     f  ...     f     f     f     t     t     n\n",
            "...    ...   ...   ...   ...   ...   ...  ...   ...   ...   ...   ...   ...   ...\n",
            "3191     t     f     f     f     f     f  ...     f     t     f     t     f     n\n",
            "3192     t     f     f     f     f     f  ...     f     t     f     t     f     n\n",
            "3193     t     f     f     f     f     f  ...     f     t     f     t     f     n\n",
            "3194     t     f     t     f     f     f  ...     f     t     f     f     f     n\n",
            "3195     t     f     t     f     f     f  ...     f     t     f     f     f     n\n",
            "\n",
            "[3196 rows x 36 columns]\n",
            "0         won\n",
            "1         won\n",
            "2         won\n",
            "3         won\n",
            "4         won\n",
            "        ...  \n",
            "3191    nowin\n",
            "3192    nowin\n",
            "3193    nowin\n",
            "3194    nowin\n",
            "3195    nowin\n",
            "Name: label, Length: 3196, dtype: object\n"
          ],
          "name": "stdout"
        }
      ]
    },
    {
      "cell_type": "code",
      "metadata": {
        "id": "AxxQnbf2Rptt"
      },
      "source": [
        "pre1 = 0.6666666666666666\n",
        "rec1 = 0.5925925925925926\n",
        "f11 = 0.627450980392157"
      ],
      "execution_count": null,
      "outputs": []
    },
    {
      "cell_type": "code",
      "metadata": {
        "colab": {
          "base_uri": "https://localhost:8080/"
        },
        "id": "NAwJa8PCoJXM",
        "outputId": "5c1f0458-2f97-480b-b9ca-66545bdff61d"
      },
      "source": [
        "#Implementation the fit function one\n",
        "count1 = 0\n",
        "count2 = 0\n",
        "for i in data_y:\n",
        "  if i == 'won':\n",
        "    count1 = count1 + 1\n",
        "  else:\n",
        "    count2 = count2 + 1\n",
        "\n",
        "won = count1/len(data_y)\n",
        "nowin = count2/len(data_y)\n",
        "print(count1, count2)\n",
        "print(won, nowin)\n",
        "x = won + nowin\n",
        "print(x)"
      ],
      "execution_count": null,
      "outputs": [
        {
          "output_type": "stream",
          "text": [
            "1669 1527\n",
            "0.522215269086358 0.47778473091364204\n",
            "1.0\n"
          ],
          "name": "stdout"
        }
      ]
    },
    {
      "cell_type": "code",
      "metadata": {
        "id": "mQbg7SiCDTWI"
      },
      "source": [
        "#Implementation the fit function two\n",
        "\n",
        "def fit_function(data, arr):\n",
        "  #arr = []\n",
        "  flag = 0\n",
        "  temp = 0\n",
        "  for d in data:\n",
        "    if d != 'label':\n",
        "      arr.append({})\n",
        "      X = data.groupby([d, 'label'], as_index=False)['label'].count()\n",
        "      mylist = list(dict.fromkeys(X[d]))\n",
        "      for j in mylist:\n",
        "        arr[flag][j] = []\n",
        "        for i in range(2):\n",
        "          try:\n",
        "            #print(f\"look=={temp}, {X['label'][temp]}\")\n",
        "            if temp <= 1:\n",
        "              arr[flag][j].append(X['label'][temp]/count1)\n",
        "            else:\n",
        "              arr[flag][j].append(X['label'][temp]/count2)\n",
        "            temp = temp + 1\n",
        "          except:\n",
        "            pass\n",
        "      temp = 0\n",
        "      flag = flag + 1\n",
        "    \n",
        "\n",
        "\n",
        "  for ar in arr:\n",
        "    print(ar)\n",
        "\n"
      ],
      "execution_count": null,
      "outputs": []
    },
    {
      "cell_type": "code",
      "metadata": {
        "id": "bn6_MIH7l0x4"
      },
      "source": [
        "#Implement the predict function\n",
        "def predict_function(data, classify):\n",
        "  arr1 = []\n",
        "  arr2 = []\n",
        "  temp1 = 1\n",
        "  temp2 = 1\n",
        "  clock = 0\n",
        "  for i in range(len(data)):\n",
        "    temp = data.iloc[i]\n",
        "    for j in temp[0:-1]:\n",
        "      try:\n",
        "        temp1 = temp1 * arr[clock][j][0]\n",
        "        temp2 = temp2 * arr[clock][j][1]\n",
        "      except:\n",
        "        temp1 = temp1 * arr[clock][j][0]\n",
        "        temp2 = temp2 * 1\n",
        "      clock = clock + 1\n",
        "    arr1.append(temp1*won)\n",
        "    arr2.append(temp2*nowin)\n",
        "    temp1 = 1\n",
        "    temp2 = 1\n",
        "    clock = 0\n",
        "    #print(arr1)\n",
        "    #print(arr2)\n",
        "\n",
        "    #print(len(arr2))\n",
        "    #print(len(arr1))\n",
        "\n",
        "  for i in range(len(arr1)):\n",
        "    if arr1[i] > arr2[i]:\n",
        "      classify.append('won')\n",
        "    else:\n",
        "      classify.append('nowin')\n",
        "\n"
      ],
      "execution_count": null,
      "outputs": []
    },
    {
      "cell_type": "code",
      "metadata": {
        "colab": {
          "base_uri": "https://localhost:8080/"
        },
        "id": "Uc1w61HFEII_",
        "outputId": "41073c6f-e41e-4990-8831-8091d53ea559"
      },
      "source": [
        "arr = []\n",
        "fit_function(data, arr)"
      ],
      "execution_count": null,
      "outputs": [
        {
          "output_type": "stream",
          "text": [
            "{'f': [0.8130617136009587, 0.8879568603954464], 't': [0.11132940406024885, 0.12246234446627374]}\n",
            "{'f': [0.8514080287597364, 0.9286998202516477], 't': [0.06941715782580223, 0.0779305828421742]}\n",
            "{'f': [0.8639904134212103, 0.9790293588975434], 't': [0.05566470203012443, 0.022920759659463]}\n",
            "{'f': [0.8190533253445177, 0.9029358897543439], 't': [0.10478061558611657, 0.10609037328094302]}\n",
            "{'f': [0.5919712402636309, 0.6836428999400839], 't': [0.3529796987557302, 0.34577603143418467]}\n",
            "{'f': [0.5596165368484122, 0.4721390053924506], 't': [0.3883431565160445, 0.5769482645710543]}\n",
            "{'f': [0.5044937088076693, 0.7094068304373876], 't': [0.4485920104780616, 0.31761624099541585]}\n",
            "{'f': [0.6237267825044938, 0.8741761533852607], 't': [0.3182711198428291, 0.137524557956778]}\n",
            "{'f': [0.5272618334331935, 0.6590772917914919], 't': [0.42370661427635886, 0.37262606417812705]}\n",
            "{'f': [0.46974236069502695, 0.8633912522468544], 't': [0.4865749836280288, 0.14931237721021612]}\n",
            "{'f': [0.5524266027561414, 0.536249251048532], 't': [0.39620170268500327, 0.5068762278978389]}\n",
            "{'f': [0.823247453565009, 0.89035350509287], 't': [0.10019646365422397, 0.11984282907662082]}\n",
            "{'g': [0.32774116237267825, 0.2660275614140204], 'l': [0.641781270464964, 0.802226588081205]}\n",
            "{'f': [0.9059316956261234, 1.0], 't': [0.009823182711198428]}\n",
            "{'b': [0.08687837028160575, 0.04733373277411624], 'n': [0.8408644400785854, 0.8133595284872298], 'w': [0.06417812704649639, 0.22789783889980353]}\n",
            "{'f': [0.8376273217495507, 0.9838226482923906], 't': [0.08447937131630648, 0.01768172888015717]}\n",
            "{'f': [0.8891551827441582, 0.9676452965847813], 't': [0.028159790438768827, 0.03536345776031434]}\n",
            "{'f': [0.21330137807070101, 0.38585979628520073], 't': [0.7668631303208906, 0.6712508185985593]}\n",
            "{'f': [0.9101258238466148, 0.9892150988615938], 't': [0.005239030779305829, 0.011787819253438114]}\n",
            "{'f': [0.7795086878370282, 0.8466147393648892], 't': [0.14800261951538965, 0.16764898493778652]}\n",
            "{'f': [0.9149191132414619, 0.6500898741761534], 't': [0.38244924688932547]}\n",
            "{'f': [0.7705212702216896, 0.7609346914319952], 't': [0.15782580222658807, 0.26129666011787817]}\n",
            "{'f': [0.8430197723187537, 0.9622528460155781], 't': [0.07858546168958742, 0.0412573673870334]}\n",
            "{'f': [0.5865787896944278, 0.5967645296584781], 't': [0.35887360838244925, 0.4407334643091028]}\n",
            "{'f': [0.9095266626722588, 0.9988016776512882], 't': [0.005893909626719057, 0.0013097576948264572]}\n",
            "{'f': [0.26423007789095265, 0.32294787297783106], 't': [0.7111984282907662, 0.7400130975769482]}\n",
            "{'f': [0.8364289994008388, 0.9736369083283404], 't': [0.08578912901113293, 0.028814669286182055]}\n",
            "{'f': [0.914319952067106, 1.0], 't': [0.0006548788474132286]}\n",
            "{'f': [0.8867585380467345, 1.0], 't': [0.03077930582842174]}\n",
            "{'f': [0.883762732174955, 0.9496704613541043], 't': [0.034053700065487885, 0.0550098231827112]}\n",
            "{'f': [0.799281006590773, 0.7771120431396046], 't': [0.12639161755075312, 0.24361493123772102]}\n",
            "{'f': [0.8220491312162972, 0.988016776512882], 't': [0.10150622134905042, 0.01309757694826457]}\n",
            "{'f': [0.39844218094667466, 0.7902935889754344], 't': [0.564505566470203, 0.22920759659463]}\n",
            "{'f': [0.32174955062911925, 0.3906530856800479], 't': [0.6483300589390962, 0.6660117878192534]}\n",
            "{'f': [0.3055721989215099, 0.2043139604553625], 't': [0.6660117878192534, 0.8696791093647676]}\n",
            "{'n': [0.689035350509287, 0.7531455961653685], 't': [0.24688932547478717, 0.26981008513425014]}\n"
          ],
          "name": "stdout"
        }
      ]
    },
    {
      "cell_type": "code",
      "metadata": {
        "colab": {
          "base_uri": "https://localhost:8080/"
        },
        "id": "RB-GYOLFJpAA",
        "outputId": "a506c3b0-19af-4204-eda7-a76a8b40e304"
      },
      "source": [
        "classify = []\n",
        "print(len(classify))\n",
        "predict_function(test_x, classify)"
      ],
      "execution_count": null,
      "outputs": [
        {
          "output_type": "stream",
          "text": [
            "0\n"
          ],
          "name": "stdout"
        }
      ]
    },
    {
      "cell_type": "code",
      "metadata": {
        "colab": {
          "base_uri": "https://localhost:8080/"
        },
        "id": "MJLxhsUoKc43",
        "outputId": "111f2937-6bfa-4fc3-9cad-c86525f7aea7"
      },
      "source": [
        "print(len(classify))\n",
        "print(classify)\n",
        "test_y = test_y.tolist()"
      ],
      "execution_count": null,
      "outputs": [
        {
          "output_type": "stream",
          "text": [
            "799\n",
            "['nowin', 'nowin', 'nowin', 'nowin', 'nowin', 'nowin', 'nowin', 'nowin', 'nowin', 'nowin', 'nowin', 'won', 'nowin', 'nowin', 'nowin', 'nowin', 'nowin', 'nowin', 'nowin', 'nowin', 'nowin', 'nowin', 'nowin', 'nowin', 'nowin', 'nowin', 'nowin', 'nowin', 'nowin', 'nowin', 'nowin', 'nowin', 'won', 'nowin', 'won', 'nowin', 'nowin', 'nowin', 'nowin', 'nowin', 'nowin', 'nowin', 'nowin', 'nowin', 'nowin', 'nowin', 'nowin', 'won', 'nowin', 'nowin', 'nowin', 'nowin', 'nowin', 'nowin', 'nowin', 'nowin', 'nowin', 'won', 'nowin', 'nowin', 'nowin', 'nowin', 'nowin', 'nowin', 'nowin', 'won', 'nowin', 'nowin', 'nowin', 'nowin', 'nowin', 'nowin', 'nowin', 'nowin', 'nowin', 'nowin', 'nowin', 'nowin', 'nowin', 'nowin', 'nowin', 'nowin', 'nowin', 'nowin', 'nowin', 'nowin', 'nowin', 'nowin', 'nowin', 'won', 'nowin', 'nowin', 'nowin', 'nowin', 'nowin', 'nowin', 'nowin', 'won', 'nowin', 'nowin', 'nowin', 'nowin', 'won', 'nowin', 'nowin', 'won', 'nowin', 'nowin', 'nowin', 'nowin', 'won', 'nowin', 'nowin', 'nowin', 'won', 'nowin', 'nowin', 'nowin', 'nowin', 'nowin', 'nowin', 'nowin', 'nowin', 'nowin', 'nowin', 'nowin', 'nowin', 'nowin', 'won', 'nowin', 'nowin', 'nowin', 'nowin', 'won', 'nowin', 'nowin', 'nowin', 'nowin', 'nowin', 'nowin', 'nowin', 'nowin', 'nowin', 'nowin', 'won', 'nowin', 'won', 'nowin', 'nowin', 'nowin', 'nowin', 'nowin', 'nowin', 'won', 'nowin', 'won', 'nowin', 'nowin', 'nowin', 'nowin', 'nowin', 'nowin', 'nowin', 'nowin', 'nowin', 'won', 'nowin', 'won', 'nowin', 'won', 'nowin', 'nowin', 'nowin', 'nowin', 'nowin', 'nowin', 'nowin', 'nowin', 'won', 'nowin', 'nowin', 'won', 'nowin', 'nowin', 'nowin', 'nowin', 'nowin', 'nowin', 'nowin', 'won', 'nowin', 'nowin', 'nowin', 'nowin', 'nowin', 'nowin', 'nowin', 'nowin', 'nowin', 'nowin', 'nowin', 'nowin', 'nowin', 'nowin', 'nowin', 'nowin', 'nowin', 'nowin', 'nowin', 'nowin', 'nowin', 'nowin', 'nowin', 'won', 'nowin', 'nowin', 'nowin', 'nowin', 'won', 'nowin', 'won', 'nowin', 'nowin', 'nowin', 'nowin', 'nowin', 'nowin', 'won', 'nowin', 'nowin', 'nowin', 'nowin', 'nowin', 'nowin', 'nowin', 'nowin', 'nowin', 'nowin', 'nowin', 'nowin', 'nowin', 'nowin', 'nowin', 'nowin', 'nowin', 'nowin', 'nowin', 'nowin', 'nowin', 'nowin', 'nowin', 'nowin', 'nowin', 'nowin', 'nowin', 'nowin', 'nowin', 'nowin', 'nowin', 'nowin', 'nowin', 'nowin', 'nowin', 'won', 'nowin', 'won', 'nowin', 'won', 'nowin', 'nowin', 'won', 'won', 'nowin', 'nowin', 'nowin', 'nowin', 'nowin', 'nowin', 'nowin', 'nowin', 'nowin', 'nowin', 'nowin', 'nowin', 'nowin', 'nowin', 'nowin', 'nowin', 'won', 'nowin', 'nowin', 'nowin', 'nowin', 'nowin', 'nowin', 'nowin', 'nowin', 'nowin', 'won', 'won', 'nowin', 'nowin', 'won', 'nowin', 'nowin', 'nowin', 'nowin', 'nowin', 'nowin', 'nowin', 'nowin', 'nowin', 'won', 'won', 'nowin', 'won', 'nowin', 'nowin', 'nowin', 'nowin', 'nowin', 'won', 'nowin', 'won', 'nowin', 'nowin', 'nowin', 'nowin', 'nowin', 'nowin', 'nowin', 'nowin', 'nowin', 'nowin', 'nowin', 'nowin', 'nowin', 'nowin', 'nowin', 'nowin', 'nowin', 'nowin', 'nowin', 'nowin', 'nowin', 'nowin', 'won', 'nowin', 'nowin', 'nowin', 'nowin', 'won', 'won', 'nowin', 'nowin', 'nowin', 'won', 'nowin', 'nowin', 'nowin', 'nowin', 'nowin', 'nowin', 'nowin', 'nowin', 'nowin', 'nowin', 'nowin', 'nowin', 'nowin', 'nowin', 'nowin', 'nowin', 'nowin', 'nowin', 'nowin', 'nowin', 'won', 'nowin', 'nowin', 'nowin', 'won', 'nowin', 'nowin', 'won', 'nowin', 'nowin', 'nowin', 'nowin', 'nowin', 'nowin', 'nowin', 'nowin', 'nowin', 'nowin', 'nowin', 'nowin', 'nowin', 'won', 'nowin', 'nowin', 'nowin', 'nowin', 'nowin', 'nowin', 'won', 'nowin', 'nowin', 'nowin', 'nowin', 'nowin', 'won', 'nowin', 'nowin', 'nowin', 'nowin', 'nowin', 'nowin', 'nowin', 'nowin', 'nowin', 'won', 'nowin', 'nowin', 'nowin', 'nowin', 'nowin', 'won', 'nowin', 'won', 'nowin', 'nowin', 'nowin', 'nowin', 'nowin', 'won', 'nowin', 'nowin', 'nowin', 'nowin', 'nowin', 'nowin', 'nowin', 'nowin', 'nowin', 'nowin', 'nowin', 'nowin', 'nowin', 'nowin', 'nowin', 'won', 'nowin', 'nowin', 'nowin', 'nowin', 'nowin', 'nowin', 'nowin', 'nowin', 'nowin', 'nowin', 'nowin', 'nowin', 'nowin', 'nowin', 'nowin', 'won', 'nowin', 'nowin', 'nowin', 'nowin', 'nowin', 'won', 'nowin', 'nowin', 'nowin', 'nowin', 'nowin', 'nowin', 'nowin', 'nowin', 'nowin', 'nowin', 'nowin', 'nowin', 'nowin', 'nowin', 'nowin', 'won', 'nowin', 'won', 'nowin', 'nowin', 'nowin', 'nowin', 'nowin', 'nowin', 'nowin', 'nowin', 'nowin', 'won', 'nowin', 'nowin', 'nowin', 'nowin', 'nowin', 'nowin', 'nowin', 'won', 'nowin', 'nowin', 'nowin', 'nowin', 'nowin', 'nowin', 'won', 'nowin', 'nowin', 'nowin', 'nowin', 'nowin', 'nowin', 'won', 'nowin', 'nowin', 'won', 'nowin', 'nowin', 'nowin', 'nowin', 'won', 'nowin', 'nowin', 'nowin', 'nowin', 'nowin', 'nowin', 'nowin', 'nowin', 'nowin', 'nowin', 'nowin', 'nowin', 'nowin', 'nowin', 'nowin', 'nowin', 'nowin', 'nowin', 'nowin', 'nowin', 'nowin', 'nowin', 'won', 'nowin', 'nowin', 'won', 'nowin', 'nowin', 'won', 'nowin', 'nowin', 'nowin', 'nowin', 'nowin', 'nowin', 'nowin', 'nowin', 'nowin', 'nowin', 'nowin', 'nowin', 'won', 'nowin', 'nowin', 'nowin', 'nowin', 'won', 'won', 'nowin', 'nowin', 'nowin', 'nowin', 'nowin', 'nowin', 'nowin', 'won', 'nowin', 'nowin', 'won', 'nowin', 'nowin', 'won', 'nowin', 'won', 'nowin', 'nowin', 'nowin', 'won', 'nowin', 'nowin', 'nowin', 'nowin', 'won', 'nowin', 'nowin', 'nowin', 'nowin', 'won', 'nowin', 'won', 'nowin', 'nowin', 'nowin', 'nowin', 'nowin', 'nowin', 'nowin', 'nowin', 'nowin', 'nowin', 'nowin', 'nowin', 'nowin', 'nowin', 'nowin', 'nowin', 'nowin', 'nowin', 'won', 'nowin', 'nowin', 'nowin', 'nowin', 'won', 'nowin', 'won', 'nowin', 'nowin', 'nowin', 'nowin', 'nowin', 'nowin', 'nowin', 'won', 'nowin', 'nowin', 'nowin', 'nowin', 'nowin', 'nowin', 'nowin', 'nowin', 'nowin', 'nowin', 'nowin', 'won', 'nowin', 'nowin', 'nowin', 'won', 'won', 'nowin', 'nowin', 'nowin', 'nowin', 'nowin', 'nowin', 'won', 'nowin', 'nowin', 'won', 'nowin', 'won', 'nowin', 'nowin', 'nowin', 'nowin', 'nowin', 'nowin', 'nowin', 'nowin', 'nowin', 'nowin', 'nowin', 'nowin', 'nowin', 'nowin', 'nowin', 'nowin', 'nowin', 'nowin', 'nowin', 'won', 'won', 'nowin', 'nowin', 'nowin', 'nowin', 'nowin', 'nowin', 'nowin', 'nowin', 'nowin', 'nowin', 'nowin', 'nowin', 'nowin', 'nowin', 'nowin', 'nowin', 'nowin', 'nowin', 'nowin', 'nowin', 'nowin', 'nowin', 'nowin', 'nowin', 'nowin', 'nowin', 'nowin', 'nowin', 'nowin', 'nowin', 'nowin', 'nowin', 'nowin', 'won', 'nowin', 'nowin', 'nowin', 'nowin', 'nowin', 'nowin', 'nowin', 'nowin', 'nowin', 'nowin', 'won', 'nowin', 'nowin', 'nowin', 'nowin', 'nowin', 'nowin', 'nowin', 'nowin', 'nowin', 'nowin', 'nowin', 'won', 'nowin', 'nowin', 'nowin', 'nowin', 'nowin', 'nowin', 'nowin', 'nowin', 'nowin', 'nowin', 'nowin', 'nowin', 'nowin', 'nowin', 'nowin', 'nowin', 'nowin', 'nowin', 'nowin', 'nowin', 'nowin', 'won', 'nowin', 'nowin', 'nowin', 'nowin', 'nowin', 'nowin', 'nowin', 'nowin', 'nowin', 'won', 'nowin', 'nowin', 'nowin', 'nowin', 'won', 'nowin', 'nowin', 'nowin', 'nowin', 'nowin', 'nowin', 'nowin', 'nowin', 'nowin']\n"
          ],
          "name": "stdout"
        }
      ]
    },
    {
      "cell_type": "code",
      "metadata": {
        "colab": {
          "base_uri": "https://localhost:8080/"
        },
        "id": "sJ7USy2wLnnO",
        "outputId": "b59fb5d9-b2fa-44c9-85f0-750288905704"
      },
      "source": [
        "from sklearn.metrics import accuracy_score, precision_score, recall_score, f1_score\n",
        "\n",
        "acc1 = accuracy_score(test_y, classify)\n",
        "rec1 = recall_score(test_y, classify)\n",
        "pre1 = precision_score(test_y, classify)\n",
        "f11 = f1_score(test_y, classify)\n",
        "\n",
        "print(acc1, pre1, rec1, f11)\n"
      ],
      "execution_count": null,
      "outputs": [
        {
          "output_type": "stream",
          "text": [
            "0.3591989987484355 0.6666666666666666 0.5925925925925926 0.627450980392157\n"
          ],
          "name": "stdout"
        }
      ]
    }
  ]
}